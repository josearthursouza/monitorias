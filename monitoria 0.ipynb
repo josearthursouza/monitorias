{
 "cells": [
  {
   "cell_type": "code",
   "execution_count": 27,
   "metadata": {},
   "outputs": [],
   "source": [
    "class pair:\n",
    "    def __init__(self,car,cdr):\n",
    "        self.car=car\n",
    "        self.cdr=cdr\n",
    "        \n",
    "    def __str__(self):\n",
    "        return \"pair (\" + str(self.car) + \", \" + str(self.cdr) + \")\"\n",
    "    \n",
    "    def _repr_html_(self):\n",
    "        return self.__str__()\n",
    "    \n",
    "def cons(car,cdr):\n",
    "    return pair(car,cdr)\n",
    "def car(pair):\n",
    "    return pair.car\n",
    "def cdr(pair):\n",
    "    return pair.cdr\n",
    "def cons_list(values):\n",
    "    if len(values)==0:None\n",
    "    else: return cons(values[0],cons_list(values[1:]))"
   ]
  },
  {
   "cell_type": "code",
   "execution_count": 28,
   "metadata": {},
   "outputs": [],
   "source": [
    "p=cons(1,10)"
   ]
  },
  {
   "cell_type": "code",
   "execution_count": 29,
   "metadata": {},
   "outputs": [
    {
     "data": {
      "text/html": [
       "pair (1, 10)"
      ],
      "text/plain": [
       "<__main__.pair at 0x1873898e128>"
      ]
     },
     "execution_count": 29,
     "metadata": {},
     "output_type": "execute_result"
    }
   ],
   "source": [
    "p"
   ]
  },
  {
   "cell_type": "code",
   "execution_count": 30,
   "metadata": {},
   "outputs": [
    {
     "data": {
      "text/plain": [
       "1"
      ]
     },
     "execution_count": 30,
     "metadata": {},
     "output_type": "execute_result"
    }
   ],
   "source": [
    "CAR=car(p)\n",
    "car(p)"
   ]
  },
  {
   "cell_type": "code",
   "execution_count": 31,
   "metadata": {},
   "outputs": [
    {
     "data": {
      "text/plain": [
       "10"
      ]
     },
     "execution_count": 31,
     "metadata": {},
     "output_type": "execute_result"
    }
   ],
   "source": [
    "CDR=cdr(p)\n",
    "cdr(p)"
   ]
  },
  {
   "cell_type": "code",
   "execution_count": 38,
   "metadata": {},
   "outputs": [
    {
     "data": {
      "text/html": [
       "pair (1, pair (2, pair (3, None)))"
      ],
      "text/plain": [
       "<__main__.pair at 0x18738f18438>"
      ]
     },
     "execution_count": 38,
     "metadata": {},
     "output_type": "execute_result"
    }
   ],
   "source": [
    "cl=cons_list((1,2,3))\n",
    "cl"
   ]
  },
  {
   "cell_type": "code",
   "execution_count": 39,
   "metadata": {},
   "outputs": [
    {
     "data": {
      "text/plain": [
       "3"
      ]
     },
     "execution_count": 39,
     "metadata": {},
     "output_type": "execute_result"
    }
   ],
   "source": [
    "car(cdr(cdr(cl)))"
   ]
  },
  {
   "cell_type": "code",
   "execution_count": 40,
   "metadata": {},
   "outputs": [
    {
     "data": {
      "text/html": [
       "pair (20, pair (6, pair (1, pair (4, pair (2, pair (3, pair (1, pair (10, None))))))))"
      ],
      "text/plain": [
       "<__main__.pair at 0x18738f18be0>"
      ]
     },
     "execution_count": 40,
     "metadata": {},
     "output_type": "execute_result"
    }
   ],
   "source": [
    "cl=cons_list((20,6,1,4,2,3,1,10))\n",
    "cl"
   ]
  },
  {
   "cell_type": "code",
   "execution_count": 42,
   "metadata": {},
   "outputs": [
    {
     "data": {
      "text/plain": [
       "3"
      ]
     },
     "execution_count": 42,
     "metadata": {},
     "output_type": "execute_result"
    }
   ],
   "source": [
    "car(cdr(cdr(cdr(cdr(cdr(cl))))))"
   ]
  },
  {
   "cell_type": "code",
   "execution_count": 44,
   "metadata": {},
   "outputs": [
    {
     "data": {
      "text/html": [
       "pair (20, pair (6, pair (1, pair (4, pair (2, pair (3, pair (pair (pair (82, pair (2, None)), pair (3, None)), pair (10, None))))))))"
      ],
      "text/plain": [
       "<__main__.pair at 0x18738ce3dd8>"
      ]
     },
     "execution_count": 44,
     "metadata": {},
     "output_type": "execute_result"
    }
   ],
   "source": [
    "cl2=cons_list((20,6,1,4,2,3,cons_list( (cons_list((82,2)),3) ),10))\n",
    "cl2"
   ]
  },
  {
   "cell_type": "code",
   "execution_count": 47,
   "metadata": {},
   "outputs": [
    {
     "data": {
      "text/plain": [
       "82"
      ]
     },
     "execution_count": 47,
     "metadata": {},
     "output_type": "execute_result"
    }
   ],
   "source": [
    "(car(car(car(cdr(cdr(cdr(cdr(cdr(cdr(cl2))))))))))"
   ]
  },
  {
   "cell_type": "code",
   "execution_count": 58,
   "metadata": {},
   "outputs": [],
   "source": [
    "def take(cl, n):\n",
    "    for i in range(n):\n",
    "        cl=cdr(cl)\n",
    "    return car(cl)"
   ]
  },
  {
   "cell_type": "code",
   "execution_count": 59,
   "metadata": {},
   "outputs": [
    {
     "data": {
      "text/html": [
       "pair (20, pair (6, pair (1, pair (4, pair (2, pair (3, pair (1, pair (10, None))))))))"
      ],
      "text/plain": [
       "<__main__.pair at 0x18738f18be0>"
      ]
     },
     "execution_count": 59,
     "metadata": {},
     "output_type": "execute_result"
    }
   ],
   "source": [
    "cl"
   ]
  },
  {
   "cell_type": "code",
   "execution_count": 61,
   "metadata": {},
   "outputs": [
    {
     "data": {
      "text/plain": [
       "20"
      ]
     },
     "execution_count": 61,
     "metadata": {},
     "output_type": "execute_result"
    }
   ],
   "source": [
    "take(cl,0)"
   ]
  },
  {
   "cell_type": "code",
   "execution_count": 70,
   "metadata": {},
   "outputs": [],
   "source": [
    "def lenght(cl):\n",
    "    j=0\n",
    "    while cl!=None:\n",
    "        cl=cdr(cl)\n",
    "        j+=1\n",
    "    return j"
   ]
  },
  {
   "cell_type": "code",
   "execution_count": 71,
   "metadata": {},
   "outputs": [
    {
     "data": {
      "text/plain": [
       "8"
      ]
     },
     "execution_count": 71,
     "metadata": {},
     "output_type": "execute_result"
    }
   ],
   "source": [
    "lenght(cl)"
   ]
  },
  {
   "cell_type": "markdown",
   "metadata": {},
   "source": [
    "agora vamos fazer diferente"
   ]
  },
  {
   "cell_type": "code",
   "execution_count": 93,
   "metadata": {},
   "outputs": [],
   "source": [
    "class pair:\n",
    "    def __init__(self,car,cdr):\n",
    "        self.car=car\n",
    "        self.cdr=cdr\n",
    "        \n",
    "    def __str__(self):\n",
    "        return \"pair (\" + str(self.car) + \", \" + str(self.cdr) + \")\"\n",
    "    \n",
    "    def _repr_html_(self):\n",
    "        return self.__str__()\n",
    "    \n",
    "def cons(car,cdr):\n",
    "    return pair(car,cdr)\n",
    "def car(pair):\n",
    "    return pair.car\n",
    "def cdr(pair):\n",
    "    return pair.cdr\n",
    "def gera_cl(values):\n",
    "    if len(values)==0:None\n",
    "    else: return cons(values[0],gera_cl(values[1:]))"
   ]
  },
  {
   "cell_type": "code",
   "execution_count": 115,
   "metadata": {},
   "outputs": [],
   "source": [
    "class cons_list:\n",
    "    def __init__(self,values):\n",
    "        self.cl=gera_cl(values)\n",
    "        \n",
    "    def __str__(self):\n",
    "        text=\"cons_list: \"\n",
    "        aux=self.cl\n",
    "        while aux!= None:\n",
    "            text+= str(car(aux))+\", \"\n",
    "            aux=cdr(aux)\n",
    "        return text\n",
    "    \n",
    "    def _repr_html_(self):\n",
    "        return self.__str__()\n",
    "    \n",
    "    def take(self,n):\n",
    "        aux=self.cl\n",
    "        \n",
    "        for i in range(n):\n",
    "            aux=cdr(aux)\n",
    "        return car(aux)\n",
    "    \n",
    "    def __getitem__(self,key):\n",
    "        return self.take(key)\n",
    "    \n",
    "    def lenght(self):\n",
    "        j=0\n",
    "        aux=self.cl\n",
    "        while aux!=None:\n",
    "            aux=cdr(aux)\n",
    "            j+=1\n",
    "        return j\n",
    "    \n",
    "    def __len__(self):\n",
    "        return self.lenght()"
   ]
  },
  {
   "cell_type": "code",
   "execution_count": 116,
   "metadata": {},
   "outputs": [],
   "source": [
    "cl3=cons_list((1,2,3,4,5,6))"
   ]
  },
  {
   "cell_type": "code",
   "execution_count": 117,
   "metadata": {},
   "outputs": [
    {
     "data": {
      "text/html": [
       "cons_list: 1, 2, 3, 4, 5, 6, "
      ],
      "text/plain": [
       "<__main__.cons_list at 0x18738ce4780>"
      ]
     },
     "execution_count": 117,
     "metadata": {},
     "output_type": "execute_result"
    }
   ],
   "source": [
    "cl3"
   ]
  },
  {
   "cell_type": "code",
   "execution_count": 118,
   "metadata": {},
   "outputs": [
    {
     "data": {
      "text/plain": [
       "5"
      ]
     },
     "execution_count": 118,
     "metadata": {},
     "output_type": "execute_result"
    }
   ],
   "source": [
    "cl3[4]"
   ]
  },
  {
   "cell_type": "code",
   "execution_count": 119,
   "metadata": {},
   "outputs": [
    {
     "data": {
      "text/plain": [
       "6"
      ]
     },
     "execution_count": 119,
     "metadata": {},
     "output_type": "execute_result"
    }
   ],
   "source": [
    "len(cl3)"
   ]
  },
  {
   "cell_type": "code",
   "execution_count": null,
   "metadata": {},
   "outputs": [],
   "source": []
  },
  {
   "cell_type": "code",
   "execution_count": null,
   "metadata": {},
   "outputs": [],
   "source": []
  },
  {
   "cell_type": "code",
   "execution_count": null,
   "metadata": {},
   "outputs": [],
   "source": []
  },
  {
   "cell_type": "code",
   "execution_count": null,
   "metadata": {},
   "outputs": [],
   "source": []
  },
  {
   "cell_type": "code",
   "execution_count": null,
   "metadata": {},
   "outputs": [],
   "source": []
  },
  {
   "cell_type": "code",
   "execution_count": null,
   "metadata": {},
   "outputs": [],
   "source": []
  },
  {
   "cell_type": "code",
   "execution_count": 1,
   "metadata": {},
   "outputs": [
    {
     "data": {
      "text/plain": [
       "[None, None, None, None, None]"
      ]
     },
     "execution_count": 1,
     "metadata": {},
     "output_type": "execute_result"
    }
   ],
   "source": [
    "[None]*5"
   ]
  },
  {
   "cell_type": "code",
   "execution_count": 3,
   "metadata": {},
   "outputs": [
    {
     "data": {
      "text/plain": [
       "[0, 0, 0, 0, 0, 0]"
      ]
     },
     "execution_count": 3,
     "metadata": {},
     "output_type": "execute_result"
    }
   ],
   "source": [
    "([0]*3)*2"
   ]
  },
  {
   "cell_type": "code",
   "execution_count": 4,
   "metadata": {},
   "outputs": [
    {
     "data": {
      "text/plain": [
       "[[0, 0, 0], [0, 0, 0]]"
      ]
     },
     "execution_count": 4,
     "metadata": {},
     "output_type": "execute_result"
    }
   ],
   "source": [
    "[[0]*3]*2"
   ]
  },
  {
   "cell_type": "code",
   "execution_count": null,
   "metadata": {},
   "outputs": [],
   "source": []
  }
 ],
 "metadata": {
  "kernelspec": {
   "display_name": "Python 3",
   "language": "python",
   "name": "python3"
  },
  "language_info": {
   "codemirror_mode": {
    "name": "ipython",
    "version": 3
   },
   "file_extension": ".py",
   "mimetype": "text/x-python",
   "name": "python",
   "nbconvert_exporter": "python",
   "pygments_lexer": "ipython3",
   "version": "3.7.3"
  }
 },
 "nbformat": 4,
 "nbformat_minor": 2
}
